{
 "cells": [
  {
   "cell_type": "code",
   "execution_count": null,
   "metadata": {},
   "outputs": [],
   "source": [
    "# npuzzle_performance_analysis.ipynb\n",
    "\n",
    "import matplotlib.pyplot as plt\n",
    "import os\n",
    "import subprocess\n",
    "import numpy as np\n",
    "\n",
    "# Liste des algorithmes\n",
    "algorithms = ['bfs', 'dfs', 'astar']\n",
    "\n",
    "# Dictionnaire pour stocker les temps d'exécution\n",
    "times = {algo: [] for algo in algorithms}\n",
    "benchmarks = []\n",
    "\n",
    "# Parcourir les fichiers de puzzles générés\n",
    "for filename in sorted(os.listdir('benchmarks')):\n",
    "    if filename.endswith('.txt'):\n",
    "        benchmarks.append(filename)\n",
    "        for algo in algorithms:\n",
    "            # Résoudre le puzzle et mesurer le temps d'exécution\n",
    "            result = subprocess.run(['timeout', '5m', 'python3', 'solve_npuzzle.py', f'benchmarks/{filename}', '-a', algo, '-v'], capture_output=True, text=True)\n",
    "            if 'Duration:' in result.stdout:\n",
    "                duration = float(result.stdout.split('Duration:')[1].strip())\n",
    "                times[algo].append(duration)\n",
    "            else:\n",
    "                times[algo].append(np.nan)  # Si aucune solution n'est trouvée, on met NaN\n",
    "\n",
    "# Tracer les graphiques\n",
    "plt.figure(figsize=(14, 8))\n",
    "for algo in algorithms:\n",
    "    plt.plot(benchmarks, times[algo], marker='o', label=algo)\n",
    "\n",
    "plt.xlabel('Benchmarks')\n",
    "plt.ylabel('Temps d\\'exécution (s)')\n",
    "plt.title('Performance des algorithmes de recherche')\n",
    "plt.xticks(rotation=90)\n",
    "plt.legend()\n",
    "plt.grid(True)\n",
    "plt.tight_layout()\n",
    "plt.show()\n"
   ]
  }
 ],
 "metadata": {
  "kernelspec": {
   "display_name": "Python 3",
   "language": "python",
   "name": "python3"
  },
  "language_info": {
   "codemirror_mode": {
    "name": "ipython",
    "version": 3
   },
   "file_extension": ".py",
   "mimetype": "text/x-python",
   "name": "python",
   "nbconvert_exporter": "python",
   "pygments_lexer": "ipython3",
   "version": "3.12.3"
  }
 },
 "nbformat": 4,
 "nbformat_minor": 2
}
