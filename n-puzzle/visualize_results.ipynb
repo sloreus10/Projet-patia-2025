{
 "cells": [
  {
   "cell_type": "code",
   "execution_count": null,
   "id": "cf4b7ac7",
   "metadata": {},
   "outputs": [],
   "source": [
    "# visualize_benchmark.ipynb\n",
    "import pandas as pd\n",
    "import matplotlib.pyplot as plt\n",
    "\n",
    "# Charger les résultats\n",
    "df = pd.read_csv('results.csv')\n",
    "\n",
    "# Remplacer les \"timeout\" par une valeur indicative (ex: 300 secondes)\n",
    "df['duration'] = df['duration'].replace('timeout', 300).astype(float)\n",
    "\n",
    "# Extraire le nom simple des fichiers pour l'axe X\n",
    "df['benchmark_name'] = df['benchmark_file'].apply(lambda x: x.split('/')[-1])\n",
    "\n",
    "# Créer un graphique\n",
    "plt.figure(figsize=(14, 6))\n",
    "for algo in df['algorithm'].unique():\n",
    "    subset = df[df['algorithm'] == algo]\n",
    "    plt.plot(subset['benchmark_name'], subset['duration'], marker='o', label=algo.upper())\n",
    "\n",
    "plt.xlabel('Benchmarks')\n",
    "plt.ylabel('Temps d\\'exécution (secondes)')\n",
    "plt.title('Comparaison des algorithmes sur différents benchmarks')\n",
    "plt.xticks(rotation=45, ha='right')\n",
    "plt.legend()\n",
    "plt.grid(True)\n",
    "plt.tight_layout()\n",
    "plt.show()\n"
   ]
  }
 ],
 "metadata": {
  "kernelspec": {
   "display_name": "Python 3",
   "language": "python",
   "name": "python3"
  },
  "language_info": {
   "codemirror_mode": {
    "name": "ipython",
    "version": 3
   },
   "file_extension": ".py",
   "mimetype": "text/x-python",
   "name": "python",
   "nbconvert_exporter": "python",
   "pygments_lexer": "ipython3",
   "version": "3.11.10"
  }
 },
 "nbformat": 4,
 "nbformat_minor": 5
}
