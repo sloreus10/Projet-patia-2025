{
 "cells": [
  {
   "cell_type": "code",
   "execution_count": null,
   "metadata": {},
   "outputs": [],
   "source": [
    "# performance_analysis.ipynb\n",
    "\n",
    "import matplotlib.pyplot as plt\n",
    "import json\n",
    "import numpy as np\n",
    "\n",
    "# Charger les résultats depuis le fichier JSON\n",
    "with open('benchmark_results.json', 'r') as f:\n",
    "    results = json.load(f)\n",
    "\n",
    "# Liste des algorithmes\n",
    "algorithms = list(results.keys())\n",
    "\n",
    "# Extraire les benchmarks et les durées d'exécution\n",
    "benchmarks = list(results[algorithms[0]][0].keys())\n",
    "durations = {algo: [] for algo in algorithms}\n",
    "\n",
    "for algo in algorithms:\n",
    "    for result in results[algo]:\n",
    "        durations[algo].append(result['duration'])\n",
    "\n",
    "# Calculer la moyenne des durées d'exécution pour chaque benchmark et chaque algorithme\n",
    "avg_durations = {algo: [np.mean([d for d in durations[algo] if d is not None])] for algo in algorithms}\n",
    "\n",
    "# Tracer les graphiques\n",
    "plt.figure(figsize=(14, 8))\n",
    "for algo in algorithms:\n",
    "    plt.plot(benchmarks, avg_durations[algo], marker='o', label=algo)\n",
    "\n",
    "plt.xlabel('Benchmarks')\n",
    "plt.ylabel('Temps d\\'exécution moyen (s)')\n",
    "plt.title('Performance des algorithmes de recherche')\n",
    "plt.xticks(rotation=90)\n",
    "plt.legend()\n",
    "plt.grid(True)\n",
    "plt.tight_layout()\n",
    "plt.show()\n"
   ]
  }
 ],
 "metadata": {
  "language_info": {
   "name": "python"
  }
 },
 "nbformat": 4,
 "nbformat_minor": 2
}
