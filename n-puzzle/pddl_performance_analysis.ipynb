{
 "cells": [
  {
   "cell_type": "code",
   "execution_count": null,
   "metadata": {},
   "outputs": [],
   "source": [
    "# pddl_performance_analysis.ipynb\n",
    "\n",
    "import matplotlib.pyplot as plt\n",
    "import json\n",
    "import numpy as np\n",
    "\n",
    "# Charger les résultats depuis le fichier JSON\n",
    "with open('pddl_benchmark_results.json', 'r') as f:\n",
    "    times = json.load(f)\n",
    "\n",
    "# Liste des algorithmes\n",
    "algorithms = list(times.keys())\n",
    "\n",
    "# Liste des tailles de puzzles\n",
    "sizes = list(times[algorithms[0]].keys())\n",
    "\n",
    "# Calculer la moyenne des temps d'exécution pour chaque taille de puzzle et chaque algorithme\n",
    "avg_times = {algo: [np.mean(times[algo][size]) if times[algo][size] else 0 for size in sizes] for algo in algorithms}\n",
    "\n",
    "# Tracer les graphiques\n",
    "plt.figure(figsize=(10, 6))\n",
    "for algo in algorithms:\n",
    "    plt.plot(sizes, avg_times[algo], marker='o', label=algo)\n",
    "\n",
    "plt.xlabel('Taille du puzzle')\n",
    "plt.ylabel('Temps d\\'exécution moyen (s)')\n",
    "plt.title('Performance des algorithmes de recherche PDDL')\n",
    "plt.xticks(sizes)\n",
    "plt.legend()\n",
    "plt.grid(True)\n",
    "plt.tight_layout()\n",
    "plt.show()\n"
   ]
  }
 ],
 "metadata": {
  "language_info": {
   "name": "python"
  }
 },
 "nbformat": 4,
 "nbformat_minor": 2
}
